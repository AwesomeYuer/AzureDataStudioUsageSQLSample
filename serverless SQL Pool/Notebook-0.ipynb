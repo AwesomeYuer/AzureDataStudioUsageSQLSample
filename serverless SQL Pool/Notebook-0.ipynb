{
    "metadata": {
        "kernelspec": {
            "name": "SQL",
            "display_name": "SQL",
            "language": "sql"
        },
        "language_info": {
            "name": "sql",
            "version": ""
        }
    },
    "nbformat_minor": 2,
    "nbformat": 4,
    "cells": [
        {
            "cell_type": "code",
            "source": [
                "print 'Hello Vietnam!'"
            ],
            "metadata": {
                "azdata_cell_guid": "2f02f52a-6d80-481c-99b6-51443b5ce8ea",
                "language": "sql"
            },
            "outputs": [
                {
                    "output_type": "display_data",
                    "data": {
                        "text/html": "Hello Vietnam!"
                    },
                    "metadata": {}
                },
                {
                    "output_type": "display_data",
                    "data": {
                        "text/html": "Total execution time: 00:00:00.124"
                    },
                    "metadata": {}
                }
            ],
            "execution_count": 1
        },
        {
            "cell_type": "code",
            "source": [
                "SELECT explode(array(10, 20)) AS elem, 'Spark';"
            ],
            "metadata": {
                "language": "sql",
                "azdata_cell_guid": "d657efa9-8c03-48c2-967f-9b4cb4fc186e"
            },
            "outputs": [
                {
                    "output_type": "error",
                    "evalue": "Msg 195, Level 15, State 10, Line 1\r\n'array' is not a recognized built-in function name.",
                    "ename": "",
                    "traceback": []
                },
                {
                    "output_type": "display_data",
                    "data": {
                        "text/html": "Total execution time: 00:00:00.115"
                    },
                    "metadata": {}
                }
            ],
            "execution_count": 2
        }
    ]
}