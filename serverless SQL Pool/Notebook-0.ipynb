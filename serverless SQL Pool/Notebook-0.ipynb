{
    "metadata": {
        "kernelspec": {
            "name": "SQL",
            "display_name": "SQL",
            "language": "sql"
        },
        "language_info": {
            "name": "sql",
            "version": ""
        }
    },
    "nbformat_minor": 2,
    "nbformat": 4,
    "cells": [
        {
            "cell_type": "code",
            "source": [
                "print 'Hello Vietnam!'"
            ],
            "metadata": {
                "azdata_cell_guid": "2f02f52a-6d80-481c-99b6-51443b5ce8ea",
                "language": "sql"
            },
            "outputs": [
{
    "output_type": "error",
    "ename": "",
    "evalue": "Msg 128, Level 15, State 1, Line 1\r\nThe name \"Hello, World\" is not permitted in this context. Valid expressions are constants, constant expressions, and (in some contexts) variables. Column names are not permitted.",
    "traceback": []
}, {
    "output_type": "display_data",
    "data": {
        "text/html": "Total execution time: 00:00:00.129"
    },
    "metadata": {}
}
],
            "execution_count": 2
        }
    ]
}